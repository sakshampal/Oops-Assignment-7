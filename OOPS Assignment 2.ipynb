{
 "cells": [
  {
   "cell_type": "code",
   "execution_count": null,
   "id": "ee4f77d7-71af-4d00-98dc-28337a39868a",
   "metadata": {},
   "outputs": [],
   "source": [
    "Q1. What is Abstraction in OOps? Explain with an example.\n",
    "\n",
    "Ans: Abstraction in Object-Oriented Programming (OOP) is a concept that focuses on hiding unnecessary details and complexity\n",
    "of a system's internal implementation, and instead, exposing only the essential features and functionalities to the outside world.\n",
    "It allows programmers to create abstract models of real-world entities by defining classes with properties (attributes) and behaviors\n",
    "(methods) that represent the essential characteristics and actions of those entities.\n",
    "\n"
   ]
  },
  {
   "cell_type": "code",
   "execution_count": 1,
   "id": "d56f037e-16cf-4171-8e76-552db94e5795",
   "metadata": {},
   "outputs": [],
   "source": [
    "import abc\n",
    "\n",
    "class pwskills:\n",
    "    \n",
    "    @abc.abstractmethod\n",
    "    \n",
    "    def student_detail(self):\n",
    "        pass\n",
    "    \n",
    "    @abc.abstractmethod\n",
    "    \n",
    "    def student_mark(self):\n",
    "        pass\n",
    "    \n",
    "    @abc.abstractmethod\n",
    "    \n",
    "    def student_assignment(self):\n",
    "        pass\n",
    "    \n",
    "\n"
   ]
  },
  {
   "cell_type": "code",
   "execution_count": 2,
   "id": "93fbf696-e0f8-46c0-8bad-e22736d781eb",
   "metadata": {},
   "outputs": [],
   "source": [
    "class student_details(pwskills):\n",
    "    \n",
    "    def student_detail(self):\n",
    "        return \"this is the methlod for taking student details\"\n",
    "    \n",
    "    def student_assignment(self):\n",
    "        return \"this is the method for taking student assignment\"        "
   ]
  },
  {
   "cell_type": "code",
   "execution_count": 3,
   "id": "748648cf-5d39-4d1c-a033-8edf03bdbf67",
   "metadata": {},
   "outputs": [],
   "source": [
    "class data_science_master(pwskills):\n",
    "    def student_detail(self):\n",
    "        return \"this  will return student deatils for data science master \"\n",
    "    \n",
    "    def student_assignment(self):\n",
    "        return \"this will give you a student assignmnent details for data scienec master \"\n",
    "        "
   ]
  },
  {
   "cell_type": "code",
   "execution_count": 5,
   "id": "f641c5d9-c333-4a24-ac5e-1032ce0602ae",
   "metadata": {},
   "outputs": [
    {
     "data": {
      "text/plain": [
       "'this  will return student deatils for data science master '"
      ]
     },
     "execution_count": 5,
     "metadata": {},
     "output_type": "execute_result"
    }
   ],
   "source": [
    "dsm = data_science_master()\n",
    "dsm.student_detail()"
   ]
  },
  {
   "cell_type": "code",
   "execution_count": null,
   "id": "2ab60c81-7daa-4a6e-8fc2-b97648b83c07",
   "metadata": {},
   "outputs": [],
   "source": [
    "Q2. Differentiate between Abstraction and Encapsulation. Explain with an example.\n",
    "\n",
    "Ans : Abstraction:\n",
    "     . Abstraction focuses on representing the essential characteristics and behaviors of an object while hiding unnecessary details.\n",
    "     .  It allows you to create abstract models or classes that define the properties and methods representing the core features of real-world entities.\n",
    "     . Abstraction provides a simplified and intuitive interface for interacting with objects, without exposing the internal complexities.\n",
    "     . It is achieved through class hierarchies, interfaces, and abstract classes.\n",
    "    \n",
    "    Example: A \"Shape\" class hierarchy. You can have an abstract base class called \"Shape,\" with common properties like \"color\" \n",
    "    and an abstract method called \"calculateArea.\" The abstract method is declared in the base class but implemented in its derived\n",
    "    classes (e.g., \"Circle,\" \"Rectangle,\" etc.). Each derived class provides its specific implementation of the \"calculateArea\" method, \n",
    "    which is specific to that shape. Users can interact with objects of the derived classes without worrying about the internal implementation details.\n",
    "    \n",
    "    \n",
    "    Encapsulation:\n",
    "   . Encapsulation focuses on bundling data and methods into a single unit (class) and controlling access to that unit.\n",
    "   . It promotes the idea of data hiding, where the internal state of an object is protected from direct external access.\n",
    "   . Encapsulation allows for better organization and maintenance of code, as well as the prevention of unauthorized modifications to the internal state.\n",
    "   . It is achieved through the use of access modifiers (public, private, protected) to control the visibility of members within a class.\n",
    "    \n",
    "    \n",
    "    Example: Consider a \"BankAccount\" class that encapsulates the data and methods related to a bank account. \n",
    "    The class may have private variables like \"accountNumber\" and \"balance,\" along with public methods like \"deposit\" and \"withdraw.\" \n",
    "    The private variables are inaccessible from outside the class, ensuring that they can only be accessed and modified through the public methods.\n",
    "    This protects the integrity of the account's data and provides a controlled interface for interacting with the account.\n",
    "\n"
   ]
  },
  {
   "cell_type": "code",
   "execution_count": null,
   "id": "e389bfb5-ceb1-48f6-8d55-6e58b3d3179f",
   "metadata": {},
   "outputs": [],
   "source": [
    "Q3. What is abc module in python? Why is it used?\n",
    "\n",
    "Ans : The abc module in Python stands for \"Abstract Base Classes.\" It is a module that provides infrastructure for\n",
    "      defining abstract base classes in Python. An abstract base class (ABC) is a class that cannot be instantiated \n",
    "      and is meant to be subclassed by other classes.\n",
    "        \n",
    "    The abc module is used to define abstract base classes and to enforce a certain interface or set of methods that subclasses\n",
    "    must implement. It helps in achieving abstraction and enforcing a common structure among related classes.\n",
    "    \n",
    "    \n",
    "    1.Defining Abstract Base Classes: The abc module provides the ABC class, which is used as a base class for defining abstract\n",
    "    base classes. Subclasses of ABC can be created to define the common interface or behavior that other classes should adhere to.\n",
    "    \n",
    "    2. Enforcing Method Implementation: Abstract base classes can define abstract methods using the @abstractmethod decorator. \n",
    "    These abstract methods must be implemented by any concrete subclass. If a subclass fails to implement any of the abstract methods, \n",
    "    it will raise a TypeError when an attempt is made to instantiate the subclass.\n",
    "    \n",
    "    3.Polymorphism and Interface Enforcement: By defining abstract base classes, you can create a common interface that different subclasses\n",
    "    can implement in their own way. This allows you to write code that can work with objects of different classes as long as they adhere to the \n",
    "    common interface defined by the abstract base class.\n",
    "    \n",
    "    4.Type Checking and Documentation: Abstract base classes can be used to indicate the expected interface of a class. They serve as a form \n",
    "    of documentation, making it clear which methods must be implemented by subclasses. Additionally, tools like type checkers can leverage \n",
    "    abstract base classes to verify that the code adheres to the expected interface.\n",
    "\n"
   ]
  },
  {
   "cell_type": "code",
   "execution_count": null,
   "id": "6917cf22-99f8-41d4-8ae0-8c849da7b41d",
   "metadata": {},
   "outputs": [],
   "source": [
    "Q4. How can we achieve data abstraction?\n",
    "\n",
    "Ans: 1. Classes and Objects: Use classes to encapsulate data and behavior into objects. \n",
    "        The internal representation and implementation details of the data are hidden from \n",
    "        the outside world. Only the essential properties and methods are exposed.\n",
    "        \n",
    "     2. Access Modifiers: Utilize access modifiers, such as public, private, and protected, to control the visibility and access to class members \n",
    "       (attributes and methods). By marking certain members as private (usually with a leading underscore, e.g., _data), you can restrict direct access\n",
    "        to them from outside the class. This helps in hiding the internal representation and maintaining data integrity.\n",
    "        \n",
    "     3. Encapsulation: Encapsulate related data and methods into a class to create a cohesive unit. This bundles the data and associated behaviors\n",
    "        together, providing a higher level of abstraction. External code interacts with the object through a well-defined interface of public methods,\n",
    "         without needing to know the implementation details.\n",
    "            \n",
    "    4. Getters and Setters: Use getter and setter methods to provide controlled access to the internal data. By defining methods to retrieve \n",
    "     (get) and modify (set) the data, you can add additional logic or validation before allowing access or modification. This ensures that the data\n",
    "     is accessed or modified in a controlled manner, preserving the integrity of the underlying data.\n",
    "    \n",
    "    5.Abstract Base Classes (ABC): Employ the abc module to define abstract base classes and enforce a common interface among related classes. \n",
    "    By defining abstract methods in the abstract base class, you specify the expected behavior that subclasses must implement. This promotes\n",
    "    a consistent interface and allows code to work with objects of different classes through polymorphism.\n",
    "\n",
    "\n",
    "    "
   ]
  },
  {
   "cell_type": "code",
   "execution_count": null,
   "id": "fcc03ee5-2ba0-4a02-bb11-92eddfcaf8a6",
   "metadata": {},
   "outputs": [],
   "source": [
    "Q5. Can we create an instance of an abstract class? Explain your answer.\n",
    "\n",
    "Ans: No, we cannot create an instance of an abstract class in Python. Abstract classes are designed to be subclassed, and they serve as\n",
    "     blueprints for creating concrete subclasses.\n",
    "    \n",
    "    An abstract class is defined using the abc module, and it typically includes one or more abstract methods that must be implemented by its\n",
    "    subclasses. An abstract method is a method declaration without an implementation. It is meant to be overridden in the concrete subclasses to\n",
    "    provide a specific implementation.\n",
    "    \n",
    "    An abstract class is defined using the abc module, and it typically includes one or more abstract methods that must be implemented by its\n",
    "    subclasses. An abstract method is a method declaration without an implementation. It is meant to be overridden in the concrete subclasses\n",
    "    to provide a specific implementation."
   ]
  },
  {
   "cell_type": "code",
   "execution_count": 1,
   "id": "d25280d7-cb1e-4789-8b4f-8974626f2f7d",
   "metadata": {},
   "outputs": [
    {
     "ename": "TypeError",
     "evalue": "Can't instantiate abstract class AbstractClass with abstract method abstract_method",
     "output_type": "error",
     "traceback": [
      "\u001b[0;31m---------------------------------------------------------------------------\u001b[0m",
      "\u001b[0;31mTypeError\u001b[0m                                 Traceback (most recent call last)",
      "Cell \u001b[0;32mIn[1], line 9\u001b[0m\n\u001b[1;32m      6\u001b[0m         \u001b[38;5;28;01mpass\u001b[39;00m\n\u001b[1;32m      8\u001b[0m \u001b[38;5;66;03m# Trying to create an instance of an abstract class\u001b[39;00m\n\u001b[0;32m----> 9\u001b[0m obj \u001b[38;5;241m=\u001b[39m \u001b[43mAbstractClass\u001b[49m\u001b[43m(\u001b[49m\u001b[43m)\u001b[49m  \u001b[38;5;66;03m# Raises TypeError: Can't instantiate abstract class AbstractClass with abstract methods abstract_method\u001b[39;00m\n",
      "\u001b[0;31mTypeError\u001b[0m: Can't instantiate abstract class AbstractClass with abstract method abstract_method"
     ]
    }
   ],
   "source": [
    "from abc import ABC, abstractmethod\n",
    "\n",
    "class AbstractClass(ABC):\n",
    "    @abstractmethod\n",
    "    def abstract_method(self):\n",
    "        pass\n",
    "\n",
    "# Trying to create an instance of an abstract class\n",
    "obj = AbstractClass()  \n"
   ]
  },
  {
   "cell_type": "code",
   "execution_count": null,
   "id": "5bddb020-5f25-442f-bf9b-60a9339f7478",
   "metadata": {},
   "outputs": [],
   "source": []
  }
 ],
 "metadata": {
  "kernelspec": {
   "display_name": "Python 3 (ipykernel)",
   "language": "python",
   "name": "python3"
  },
  "language_info": {
   "codemirror_mode": {
    "name": "ipython",
    "version": 3
   },
   "file_extension": ".py",
   "mimetype": "text/x-python",
   "name": "python",
   "nbconvert_exporter": "python",
   "pygments_lexer": "ipython3",
   "version": "3.10.8"
  }
 },
 "nbformat": 4,
 "nbformat_minor": 5
}
